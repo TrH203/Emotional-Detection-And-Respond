{
 "cells": [
  {
   "cell_type": "code",
   "execution_count": 3,
   "metadata": {},
   "outputs": [
    {
     "name": "stdout",
     "output_type": "stream",
     "text": [
      "{'sentence': 1, 'this': 2, 'is': 3, 'a': 4, 'sample': 5, 'another': 6, 'example': 7}\n",
      "[[2, 3, 4, 5, 1], [6, 7, 1]]\n"
     ]
    }
   ],
   "source": [
    "from tensorflow.keras.preprocessing.text import Tokenizer\n",
    "\n",
    "# Tạo một đối tượng Tokenizer và xây dựng từ điển\n",
    "tokenizer = Tokenizer()\n",
    "text_data = [\"This is a sample sentence.\", \"Another example sentence.\"]\n",
    "tokenizer.fit_on_texts(text_data)\n",
    "print(tokenizer.word_index)\n",
    "# Chuyển đổi các câu thành chuỗi số\n",
    "sequences = tokenizer.texts_to_sequences(text_data)\n",
    "\n",
    "print(sequences)\n"
   ]
  },
  {
   "cell_type": "code",
   "execution_count": 4,
   "metadata": {},
   "outputs": [
    {
     "name": "stdout",
     "output_type": "stream",
     "text": [
      "[[2 3 4 5 1]\n",
      " [6 7 1 0 0]]\n"
     ]
    }
   ],
   "source": [
    "from tensorflow.keras.preprocessing.text import Tokenizer\n",
    "from tensorflow.keras.preprocessing.sequence import pad_sequences\n",
    "\n",
    "# Tạo một đối tượng Tokenizer và xây dựng từ điển\n",
    "tokenizer = Tokenizer()\n",
    "text_data = [\"This is a sample sentence.\", \"Another example sentence.\"]\n",
    "tokenizer.fit_on_texts(text_data)\n",
    "\n",
    "# Chuyển đổi các câu thành chuỗi số\n",
    "sequences = tokenizer.texts_to_sequences(text_data)\n",
    "\n",
    "# Đệm hoặc cắt chuỗi số để có cùng độ dài\n",
    "padded_sequences = pad_sequences(sequences, padding='post', maxlen=5, truncating='post')\n",
    "\n",
    "print(padded_sequences)\n"
   ]
  },
  {
   "cell_type": "code",
   "execution_count": null,
   "metadata": {},
   "outputs": [],
   "source": [
    "[0,0,0,.6,.4,.6]"
   ]
  }
 ],
 "metadata": {
  "kernelspec": {
   "display_name": "Python 3",
   "language": "python",
   "name": "python3"
  },
  "language_info": {
   "codemirror_mode": {
    "name": "ipython",
    "version": 3
   },
   "file_extension": ".py",
   "mimetype": "text/x-python",
   "name": "python",
   "nbconvert_exporter": "python",
   "pygments_lexer": "ipython3",
   "version": "3.7.9"
  }
 },
 "nbformat": 4,
 "nbformat_minor": 2
}
